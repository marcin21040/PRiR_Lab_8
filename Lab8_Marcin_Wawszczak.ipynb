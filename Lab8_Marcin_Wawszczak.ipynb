{
  "nbformat": 4,
  "nbformat_minor": 0,
  "metadata": {
    "colab": {
      "provenance": []
    },
    "kernelspec": {
      "name": "python3",
      "display_name": "Python 3"
    },
    "language_info": {
      "name": "python"
    }
  },
  "cells": [
    {
      "cell_type": "code",
      "source": [
        "!nvcc --version\n",
        "!pip install git+https://github.com/andreinechaev/nvcc4jupyter.git\n",
        "%load_ext nvcc_plugin\n"
      ],
      "metadata": {
        "colab": {
          "base_uri": "https://localhost:8080/"
        },
        "id": "NtCjwf9tGkmS",
        "outputId": "b3909427-5e2d-4ad4-b3cf-b079d9629b90"
      },
      "execution_count": null,
      "outputs": [
        {
          "output_type": "stream",
          "name": "stdout",
          "text": [
            "nvcc: NVIDIA (R) Cuda compiler driver\n",
            "Copyright (c) 2005-2021 NVIDIA Corporation\n",
            "Built on Sun_Feb_14_21:12:58_PST_2021\n",
            "Cuda compilation tools, release 11.2, V11.2.152\n",
            "Build cuda_11.2.r11.2/compiler.29618528_0\n",
            "Looking in indexes: https://pypi.org/simple, https://us-python.pkg.dev/colab-wheels/public/simple/\n",
            "Collecting git+https://github.com/andreinechaev/nvcc4jupyter.git\n",
            "  Cloning https://github.com/andreinechaev/nvcc4jupyter.git to /tmp/pip-req-build-bbj9jgtb\n",
            "  Running command git clone --filter=blob:none --quiet https://github.com/andreinechaev/nvcc4jupyter.git /tmp/pip-req-build-bbj9jgtb\n",
            "  Resolved https://github.com/andreinechaev/nvcc4jupyter.git to commit aac710a35f52bb78ab34d2e52517237941399eff\n",
            "  Preparing metadata (setup.py) ... \u001b[?25l\u001b[?25hdone\n",
            "The nvcc_plugin extension is already loaded. To reload it, use:\n",
            "  %reload_ext nvcc_plugin\n"
          ]
        }
      ]
    },
    {
      "cell_type": "markdown",
      "source": [
        "**Dim 1000**"
      ],
      "metadata": {
        "id": "bAe3V6DxHSdZ"
      }
    },
    {
      "cell_type": "code",
      "execution_count": null,
      "metadata": {
        "colab": {
          "base_uri": "https://localhost:8080/"
        },
        "id": "YnCqTpJwGRZL",
        "outputId": "aec55fe7-c745-4e3b-c498-fe9e1ea88b43"
      },
      "outputs": [
        {
          "output_type": "stream",
          "name": "stdout",
          "text": [
            "\n"
          ]
        }
      ],
      "source": [
        "%%cu \n",
        "#include<stdio.h>\n",
        "#define DIM 1000\n",
        "struct cuComplex{\n",
        "    float r;\n",
        "    float i;\n",
        "    __device__ cuComplex(float a, float b):r(a),i(b){}\n",
        "    __device__ float magnitude2(void){ return r*r+i*i; }\n",
        "    __device__ cuComplex operator*(const cuComplex &a){ return cuComplex(r*a.r-i*a.i,i*a.r+r*a.i); }\n",
        "    __device__ cuComplex operator+(const cuComplex &a){ return cuComplex(r+a.r,i+a.i); }\n",
        "};\n",
        "__device__ int julia(int x, int y){\n",
        "    const float scale=1.5;\n",
        "    float jx=scale*(float)(DIM/2-x)/(DIM/2);\n",
        "    float jy=scale*(float)(DIM/2-y)/(DIM/2);\n",
        "    cuComplex c(-0.8,0.156);\n",
        "    cuComplex a(jx,jy);\n",
        "    int i=0;\n",
        "    for(i=0;i<200;i++){\n",
        "        a=a*a+c;\n",
        "        if(a.magnitude2()>1000) return 0;\n",
        "    }\n",
        "    return 1;\n",
        "}\n",
        "__global__ void kernel(unsigned char *ptr){\n",
        "    int x=blockIdx.x;\n",
        "    int y=blockIdx.y;\n",
        "    int offset=x+y*gridDim.x;\n",
        "\n",
        "    int juliaValue=julia(x,y);\n",
        "    ptr[offset*4+0]=255*juliaValue;\n",
        "    ptr[offset*4+1]=0;\n",
        "    ptr[offset*4+2]=0;\n",
        "    ptr[offset*4+3]=255;\n",
        "}\n",
        "struct DataBlock{\n",
        "    unsigned char *dev_bitmap;\n",
        "};\n",
        "\n",
        "void wypisz_RGB_fraktal(unsigned char *ptr){\n",
        "    for(int y=0;y<DIM;y++){\n",
        "        for(int x=0;x<DIM;x++){\n",
        "            int offset=x+y*DIM;\n",
        "            printf(\"\\n%d, %d, %d, %d\", ptr[offset*4+0], ptr[offset*4+1], ptr[offset*4+2], ptr[offset*4+3]);\n",
        "        }\n",
        "    }\n",
        "}\n",
        "void save_to_file(unsigned char *ptr){\n",
        "    FILE *fp=fopen(\"Fraktal_GPU.jpg\",\"w\");\n",
        "    fprintf(fp,\"P3\\n%d %d\\n255\\n\", DIM, DIM);\n",
        "     for(int y=0;y<DIM;y++){\n",
        "        for(int x=0;x<DIM;x++){\n",
        "            int offset=x+y*DIM;\n",
        "            fprintf(fp,\"\\n%d %d %d\", ptr[offset*4+0], ptr[offset*4+1], ptr[offset*4+2]);\n",
        "        }\n",
        "}\n",
        "fclose(fp);\n",
        "}\n",
        "int main(void){\n",
        "    clock_t start, end;\n",
        "    double execution_time1;\n",
        "    FILE *fp = fopen(\"execution_time1.txt\", \"w\");\n",
        "    for (int i = 0; i < 10; i++) {\n",
        "        start = clock();\n",
        "        DataBlock data;\n",
        "        unsigned char *bitmap = (unsigned char*)malloc(DIM*DIM*4*sizeof(unsigned char));\n",
        "        int image_size = DIM*DIM*4;\n",
        "        unsigned char *dev_bitmap;\n",
        "        cudaMalloc((void**)&dev_bitmap, image_size);\n",
        "        data.dev_bitmap=dev_bitmap;\n",
        "        dim3 grid(DIM,DIM);\n",
        "        kernel<<<grid,1>>>(dev_bitmap);\n",
        "        cudaMemcpy(bitmap,dev_bitmap,image_size,cudaMemcpyDeviceToHost);\n",
        "        cudaFree(dev_bitmap);\n",
        "        save_to_file (bitmap);\n",
        "        end = clock();\n",
        "            execution_time1 = ((double)(end - start))/CLOCKS_PER_SEC;\n",
        "            fprintf(fp, \"%f\\n\", execution_time1);\n",
        "        }\n",
        "        fclose(fp);\n",
        "        return 0;\n",
        "}\n"
      ]
    },
    {
      "cell_type": "markdown",
      "source": [
        "**Dim 500**"
      ],
      "metadata": {
        "id": "5syoXry5HZsR"
      }
    },
    {
      "cell_type": "code",
      "source": [
        "%%cu \n",
        "#include<stdio.h>\n",
        "#define DIM 500\n",
        "\n",
        "struct cuComplex{\n",
        "    float r;\n",
        "    float i;\n",
        "    cuComplex(float a, float b):r(a),i(b){}\n",
        "    float magnitude2(void){return r*r+i*i;}\n",
        "    cuComplex operator*(const cuComplex &a){ return cuComplex(r*a.r-i*a.i,i*a.r+r*a.i); }\n",
        "    cuComplex operator+(const cuComplex &a){ return cuComplex(r+a.r,i+a.i); }\n",
        "};\n",
        "    int julia(int x, int y){\n",
        "    const float scale=1.5;\n",
        "    float jx=scale*(float)(DIM/2-x)/(DIM/2);\n",
        "    float jy=scale*(float)(DIM/2-y)/(DIM/2);\n",
        "    cuComplex c(-0.8,0.156);\n",
        "    cuComplex a(jx,jy);\n",
        "    int i=0;\n",
        "    for(i=0;i<200;i++){\n",
        "        a=a*a+c;\n",
        "        if(a.magnitude2()>1000) return 0;\n",
        "    }\n",
        "    return 1;\n",
        "}\n",
        "    void kernel(unsigned char *ptr){\n",
        "        for(int y=0;y<DIM;y++){\n",
        "        for(int x=0;x<DIM;x++){\n",
        "            int offset=x+y*DIM;\n",
        "            int juliaValue=julia(x,y);\n",
        "            ptr[offset*4+0]=255*juliaValue;\n",
        "            ptr[offset*4+1]=0;\n",
        "            ptr[offset*4+2]=0;\n",
        "            ptr[offset*4+3]=255;\n",
        "          }\n",
        "        }\n",
        "    }\n",
        "  \n",
        "struct DataBlock{\n",
        "    unsigned char *dev_bitmap;\n",
        "};\n",
        "\n",
        "void wypisz_RGB_fraktal(unsigned char *ptr){\n",
        "    for(int y=0;y<DIM;y++){\n",
        "        for(int x=0;x<DIM;x++){\n",
        "            int offset=x+y*DIM;\n",
        "            printf(\"\\n%d, %d, %d, %d\", ptr[offset*4+0], ptr[offset*4+1], ptr[offset*4+2], ptr[offset*4+3]);\n",
        "        }\n",
        "    }\n",
        "}\n",
        "void save_to_file(unsigned char *ptr){\n",
        "    FILE *fp=fopen(\"Fraktal_CPU.jpg\",\"w\");\n",
        "    fprintf(fp,\"P3\\n%d %d\\n255\\n\", DIM, DIM);\n",
        "     for(int y=0;y<DIM;y++){\n",
        "        for(int x=0;x<DIM;x++){\n",
        "            int offset=x+y*DIM;\n",
        "            fprintf(fp,\"\\n%d %d %d\", ptr[offset*4+0], ptr[offset*4+1], ptr[offset*4+2]);\n",
        "        }\n",
        "}\n",
        "fclose(fp);\n",
        "}\n",
        "int main(void){\n",
        "    clock_t start, end;\n",
        "    double execution_time2_2;\n",
        "    FILE *fp = fopen(\"execution_time2_2.txt\", \"w\");\n",
        "    for (int i = 0; i < 10; i++) {\n",
        "        start = clock();\n",
        "        DataBlock data;\n",
        "        unsigned char *bitmap = (unsigned char*)malloc(DIM*DIM*4*sizeof(unsigned char));\n",
        "        int image_size = DIM*DIM*4;\n",
        "        kernel(bitmap);\n",
        "        save_to_file (bitmap);\n",
        "        end = clock();\n",
        "        execution_time2_2 = ((double)(end - start))/CLOCKS_PER_SEC;\n",
        "        fprintf(fp, \"%f\\n\", execution_time2_2);\n",
        "    }\n",
        "    fclose(fp);\n",
        "    return 0;\n",
        "}"
      ],
      "metadata": {
        "colab": {
          "base_uri": "https://localhost:8080/"
        },
        "id": "CXAvV9ZJGyw5",
        "outputId": "707c865c-f1df-4215-be81-d89ccccaaf93"
      },
      "execution_count": null,
      "outputs": [
        {
          "output_type": "stream",
          "name": "stdout",
          "text": [
            "\n"
          ]
        }
      ]
    },
    {
      "cell_type": "code",
      "source": [
        "!apt-get install gnuplot\n",
        "!pip install matplotlib\n"
      ],
      "metadata": {
        "colab": {
          "base_uri": "https://localhost:8080/"
        },
        "id": "yIDfZmjeHg1h",
        "outputId": "b810b16a-e5c9-4bd7-e55e-b716c4308041"
      },
      "execution_count": null,
      "outputs": [
        {
          "output_type": "stream",
          "name": "stdout",
          "text": [
            "Reading package lists... Done\n",
            "Building dependency tree       \n",
            "Reading state information... Done\n",
            "The following additional packages will be installed:\n",
            "  aglfn gnuplot-data gnuplot-qt liblua5.3-0 libqt5svg5 libwxbase3.0-0v5\n",
            "  libwxgtk3.0-gtk3-0v5\n",
            "Suggested packages:\n",
            "  gnuplot-doc\n",
            "The following NEW packages will be installed:\n",
            "  aglfn gnuplot gnuplot-data gnuplot-qt liblua5.3-0 libqt5svg5\n",
            "  libwxbase3.0-0v5 libwxgtk3.0-gtk3-0v5\n",
            "0 upgraded, 8 newly installed, 0 to remove and 27 not upgraded.\n",
            "Need to get 6,713 kB of archives.\n",
            "After this operation, 25.9 MB of additional disk space will be used.\n",
            "Get:1 http://archive.ubuntu.com/ubuntu focal/universe amd64 libqt5svg5 amd64 5.12.8-0ubuntu1 [131 kB]\n",
            "Get:2 http://archive.ubuntu.com/ubuntu focal/universe amd64 aglfn all 1.7+git20191031.4036a9c-2 [30.6 kB]\n",
            "Get:3 http://archive.ubuntu.com/ubuntu focal/universe amd64 gnuplot-data all 5.2.8+dfsg1-2 [56.5 kB]\n",
            "Get:4 http://archive.ubuntu.com/ubuntu focal/main amd64 liblua5.3-0 amd64 5.3.3-1.1ubuntu2 [116 kB]\n",
            "Get:5 http://archive.ubuntu.com/ubuntu focal/universe amd64 libwxbase3.0-0v5 amd64 3.0.4+dfsg-15build1 [982 kB]\n",
            "Get:6 http://archive.ubuntu.com/ubuntu focal/universe amd64 libwxgtk3.0-gtk3-0v5 amd64 3.0.4+dfsg-15build1 [4,359 kB]\n",
            "Get:7 http://archive.ubuntu.com/ubuntu focal/universe amd64 gnuplot-qt amd64 5.2.8+dfsg1-2 [1,034 kB]\n",
            "Get:8 http://archive.ubuntu.com/ubuntu focal/universe amd64 gnuplot all 5.2.8+dfsg1-2 [3,792 B]\n",
            "Fetched 6,713 kB in 0s (34.0 MB/s)\n",
            "Selecting previously unselected package libqt5svg5:amd64.\n",
            "(Reading database ... 129499 files and directories currently installed.)\n",
            "Preparing to unpack .../0-libqt5svg5_5.12.8-0ubuntu1_amd64.deb ...\n",
            "Unpacking libqt5svg5:amd64 (5.12.8-0ubuntu1) ...\n",
            "Selecting previously unselected package aglfn.\n",
            "Preparing to unpack .../1-aglfn_1.7+git20191031.4036a9c-2_all.deb ...\n",
            "Unpacking aglfn (1.7+git20191031.4036a9c-2) ...\n",
            "Selecting previously unselected package gnuplot-data.\n",
            "Preparing to unpack .../2-gnuplot-data_5.2.8+dfsg1-2_all.deb ...\n",
            "Unpacking gnuplot-data (5.2.8+dfsg1-2) ...\n",
            "Selecting previously unselected package liblua5.3-0:amd64.\n",
            "Preparing to unpack .../3-liblua5.3-0_5.3.3-1.1ubuntu2_amd64.deb ...\n",
            "Unpacking liblua5.3-0:amd64 (5.3.3-1.1ubuntu2) ...\n",
            "Selecting previously unselected package libwxbase3.0-0v5:amd64.\n",
            "Preparing to unpack .../4-libwxbase3.0-0v5_3.0.4+dfsg-15build1_amd64.deb ...\n",
            "Unpacking libwxbase3.0-0v5:amd64 (3.0.4+dfsg-15build1) ...\n",
            "Selecting previously unselected package libwxgtk3.0-gtk3-0v5:amd64.\n",
            "Preparing to unpack .../5-libwxgtk3.0-gtk3-0v5_3.0.4+dfsg-15build1_amd64.deb ...\n",
            "Unpacking libwxgtk3.0-gtk3-0v5:amd64 (3.0.4+dfsg-15build1) ...\n",
            "Selecting previously unselected package gnuplot-qt.\n",
            "Preparing to unpack .../6-gnuplot-qt_5.2.8+dfsg1-2_amd64.deb ...\n",
            "Unpacking gnuplot-qt (5.2.8+dfsg1-2) ...\n",
            "Selecting previously unselected package gnuplot.\n",
            "Preparing to unpack .../7-gnuplot_5.2.8+dfsg1-2_all.deb ...\n",
            "Unpacking gnuplot (5.2.8+dfsg1-2) ...\n",
            "Setting up libqt5svg5:amd64 (5.12.8-0ubuntu1) ...\n",
            "Setting up aglfn (1.7+git20191031.4036a9c-2) ...\n",
            "Setting up liblua5.3-0:amd64 (5.3.3-1.1ubuntu2) ...\n",
            "Setting up libwxbase3.0-0v5:amd64 (3.0.4+dfsg-15build1) ...\n",
            "Setting up gnuplot-data (5.2.8+dfsg1-2) ...\n",
            "Setting up libwxgtk3.0-gtk3-0v5:amd64 (3.0.4+dfsg-15build1) ...\n",
            "Setting up gnuplot-qt (5.2.8+dfsg1-2) ...\n",
            "update-alternatives: using /usr/bin/gnuplot-qt to provide /usr/bin/gnuplot (gnuplot) in auto mode\n",
            "Setting up gnuplot (5.2.8+dfsg1-2) ...\n",
            "Processing triggers for man-db (2.9.1-1) ...\n",
            "Processing triggers for libc-bin (2.31-0ubuntu9.9) ...\n",
            "Looking in indexes: https://pypi.org/simple, https://us-python.pkg.dev/colab-wheels/public/simple/\n",
            "Requirement already satisfied: matplotlib in /usr/local/lib/python3.8/dist-packages (3.2.2)\n",
            "Requirement already satisfied: cycler>=0.10 in /usr/local/lib/python3.8/dist-packages (from matplotlib) (0.11.0)\n",
            "Requirement already satisfied: pyparsing!=2.0.4,!=2.1.2,!=2.1.6,>=2.0.1 in /usr/local/lib/python3.8/dist-packages (from matplotlib) (3.0.9)\n",
            "Requirement already satisfied: kiwisolver>=1.0.1 in /usr/local/lib/python3.8/dist-packages (from matplotlib) (1.4.4)\n",
            "Requirement already satisfied: numpy>=1.11 in /usr/local/lib/python3.8/dist-packages (from matplotlib) (1.21.6)\n",
            "Requirement already satisfied: python-dateutil>=2.1 in /usr/local/lib/python3.8/dist-packages (from matplotlib) (2.8.2)\n",
            "Requirement already satisfied: six>=1.5 in /usr/local/lib/python3.8/dist-packages (from python-dateutil>=2.1->matplotlib) (1.15.0)\n"
          ]
        }
      ]
    },
    {
      "cell_type": "code",
      "source": [
        "import matplotlib.pyplot as plt\n",
        "\n",
        "# Read data from files\n",
        "execution_time1 = []\n",
        "with open(\"execution_time1.txt\", \"r\") as file:\n",
        "    for line in file:\n",
        "        execution_time1.append(float(line.strip()))\n",
        "\n",
        "execution_time2 = []\n",
        "with open(\"execution_time2_2.txt\", \"r\") as file:\n",
        "    for line in file:\n",
        "        execution_time2.append(float(line.strip()))\n",
        "\n",
        "# Create a line plot\n",
        "plt.plot(execution_time1, label=\"Execution Time 1 DIM 1000\")\n",
        "plt.plot(execution_time2, label=\"Execution Time 2_2 DIM 500\")\n",
        "plt.xlabel(\"Sample Number\")\n",
        "plt.ylabel(\"Execution Time (s)\")\n",
        "plt.legend()\n",
        "plt.show()"
      ],
      "metadata": {
        "id": "pYtt3FCxHm1q",
        "outputId": "d2d6ce38-a851-4801-aee8-61d6bddc3919",
        "colab": {
          "base_uri": "https://localhost:8080/",
          "height": 283
        }
      },
      "execution_count": null,
      "outputs": [
        {
          "output_type": "display_data",
          "data": {
            "text/plain": [
              "<Figure size 432x288 with 1 Axes>"
            ],
            "image/png": "[encoded data removed]"
          },
          "metadata": {
            "needs_background": "light"
          }
        }
      ]
    },
    {
      "cell_type": "code",
      "source": [],
      "metadata": {
        "id": "KieGSQKgGfiW"
      },
      "execution_count": null,
      "outputs": []
    }
  ]
}